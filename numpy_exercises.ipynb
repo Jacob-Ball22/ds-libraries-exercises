{
 "cells": [
  {
   "cell_type": "code",
   "execution_count": 29,
   "id": "7b355bca-eb56-4c52-9317-44d018b2e753",
   "metadata": {
    "tags": []
   },
   "outputs": [],
   "source": [
    "import numpy as np\n",
    "a = np.array([4, 10, 12, 23, -2, -1, 0, 0, 0, -6, 3, -7])"
   ]
  },
  {
   "cell_type": "markdown",
   "id": "19388a09-059e-4160-8988-f44d61a78537",
   "metadata": {},
   "source": [
    "1. How many negative numbers are there?"
   ]
  },
  {
   "cell_type": "code",
   "execution_count": 11,
   "id": "7b3f3ed3-baa4-40f0-b4dc-67463bcceec7",
   "metadata": {
    "tags": []
   },
   "outputs": [
    {
     "data": {
      "text/plain": [
       "4"
      ]
     },
     "execution_count": 11,
     "metadata": {},
     "output_type": "execute_result"
    }
   ],
   "source": [
    "neg = (a < 0)\n",
    "len(a[neg])"
   ]
  },
  {
   "cell_type": "markdown",
   "id": "d3873974-8ed5-4362-b2d0-89a036abae94",
   "metadata": {},
   "source": [
    "2. How many positive numbers are there?"
   ]
  },
  {
   "cell_type": "code",
   "execution_count": 10,
   "id": "8c1db39d-8f7a-4966-bf7b-eae6589bb03c",
   "metadata": {
    "tags": []
   },
   "outputs": [
    {
     "data": {
      "text/plain": [
       "8"
      ]
     },
     "execution_count": 10,
     "metadata": {},
     "output_type": "execute_result"
    }
   ],
   "source": [
    "pos = (a >= 0)\n",
    "len(a[pos])"
   ]
  },
  {
   "cell_type": "markdown",
   "id": "ebdc20b1-9601-4a42-8a0c-03e679444777",
   "metadata": {},
   "source": [
    "3. How many even positive numbers are there?\n",
    "\n"
   ]
  },
  {
   "cell_type": "code",
   "execution_count": 9,
   "id": "c50bf43c-a7a6-4387-aa95-fa8230fe170b",
   "metadata": {
    "tags": []
   },
   "outputs": [
    {
     "data": {
      "text/plain": [
       "6"
      ]
     },
     "execution_count": 9,
     "metadata": {},
     "output_type": "execute_result"
    }
   ],
   "source": [
    "even_pos = (a >=0)&(a%2==0)\n",
    "len(a[even_pos])"
   ]
  },
  {
   "cell_type": "markdown",
   "id": "411f717f-dd74-4be2-b3e6-92ce5eb02cf7",
   "metadata": {},
   "source": [
    "4. If you were to add 3 to each data point, how many positive numbers would there be?\n",
    "\n"
   ]
  },
  {
   "cell_type": "code",
   "execution_count": 17,
   "id": "4c85cfd3-6e6f-4944-8fb1-05d981c18f7f",
   "metadata": {
    "tags": []
   },
   "outputs": [
    {
     "data": {
      "text/plain": [
       "10"
      ]
     },
     "execution_count": 17,
     "metadata": {},
     "output_type": "execute_result"
    }
   ],
   "source": [
    "add_three = a + 3\n",
    "positive = (add_three >= 0)\n",
    "len(add_three[positive])"
   ]
  },
  {
   "cell_type": "markdown",
   "id": "84057616-15be-42ec-ba72-64ffd04712ea",
   "metadata": {},
   "source": [
    "5. If you squared each number, what would the new mean and standard deviation be?\n",
    "\n"
   ]
  },
  {
   "cell_type": "code",
   "execution_count": 30,
   "id": "7a96ee58-07e1-440e-957e-622c3c0ab4ce",
   "metadata": {
    "tags": []
   },
   "outputs": [
    {
     "name": "stdout",
     "output_type": "stream",
     "text": [
      "74.0\n",
      "144.0243035046516\n"
     ]
    }
   ],
   "source": [
    "mask_square = a ** 2\n",
    "print(mask_square.mean())\n",
    "print(mask_square.std())"
   ]
  },
  {
   "cell_type": "markdown",
   "id": "0e5ca13e-cb84-4330-a818-171faa826067",
   "metadata": {},
   "source": [
    "6. A common statistical operation on a dataset is centering. This means to adjust the data such that the mean of the data is 0. This is done by subtracting the mean from each data point. Center the data set. See this link for more on centering.\n",
    "\n"
   ]
  },
  {
   "cell_type": "code",
   "execution_count": 35,
   "id": "8abadc2d-6342-47ae-b1a5-2f99f1f03048",
   "metadata": {
    "tags": []
   },
   "outputs": [
    {
     "name": "stdout",
     "output_type": "stream",
     "text": [
      "[ 4 10 12 23 -2 -1  0  0  0 -6  3 -7]\n",
      "3.0\n",
      "[  1   7   9  20  -5  -4  -3  -3  -3  -9   0 -10]\n"
     ]
    },
    {
     "data": {
      "text/plain": [
       "0.0"
      ]
     },
     "execution_count": 35,
     "metadata": {},
     "output_type": "execute_result"
    }
   ],
   "source": [
    "print(a)\n",
    "print(a.mean())\n",
    "centered = a - 3\n",
    "print(centered)\n",
    "centered.mean()"
   ]
  },
  {
   "cell_type": "markdown",
   "id": "cb184f78-7972-4539-b136-61d4fe9181a1",
   "metadata": {},
   "source": [
    "7. Calculate the z-score for each data point. Recall that the z-score is given by:\n",
    "\n"
   ]
  },
  {
   "cell_type": "code",
   "execution_count": 38,
   "id": "45e928ca-4e1b-4558-8440-4dcf80a191f8",
   "metadata": {
    "tags": []
   },
   "outputs": [
    {
     "data": {
      "text/plain": [
       "array([ 0.12403473,  0.86824314,  1.11631261,  2.48069469, -0.62017367,\n",
       "       -0.49613894, -0.3721042 , -0.3721042 , -0.3721042 , -1.11631261,\n",
       "        0.        , -1.24034735])"
      ]
     },
     "execution_count": 38,
     "metadata": {},
     "output_type": "execute_result"
    }
   ],
   "source": [
    "import scipy.stats as stats\n",
    "stats.zscore(a)"
   ]
  },
  {
   "cell_type": "markdown",
   "id": "982f1c8b-9987-4202-a361-894154c4c2f4",
   "metadata": {
    "tags": []
   },
   "source": [
    "8. Copy the setup and exercise directions from More Numpy Practice into your numpy_exercises.py and add your solutions."
   ]
  },
  {
   "cell_type": "code",
   "execution_count": 55,
   "id": "f9c04edb-eb36-4465-af83-4e27465c80da",
   "metadata": {
    "tags": []
   },
   "outputs": [],
   "source": [
    "import numpy as np\n",
    "# Life w/o numpy to life with numpy\n",
    "\n",
    "## Setup 1\n",
    "a = [1, 2, 3, 4, 5, 6, 7, 8, 9, 10]"
   ]
  },
  {
   "cell_type": "markdown",
   "id": "d5249ed3-524b-452e-8698-59b977d52020",
   "metadata": {},
   "source": [
    "* Use python's built in functionality/operators to determine the following:\n",
    "* Exercise 1 - Make a variable called sum_of_a to hold the sum of all the numbers in above list"
   ]
  },
  {
   "cell_type": "code",
   "execution_count": 57,
   "id": "d58645e3-c964-4de4-ab8b-32e3691d311d",
   "metadata": {
    "tags": []
   },
   "outputs": [
    {
     "data": {
      "text/plain": [
       "55"
      ]
     },
     "execution_count": 57,
     "metadata": {},
     "output_type": "execute_result"
    }
   ],
   "source": [
    "sum_of_a = sum(a)\n",
    "sum_of_a"
   ]
  },
  {
   "cell_type": "markdown",
   "id": "b8372d04-ac40-4ea6-88ec-885008443caa",
   "metadata": {},
   "source": [
    "* Exercise 2 - Make a variable named min_of_a to hold the minimum of all the numbers in the above list\n"
   ]
  },
  {
   "cell_type": "code",
   "execution_count": 58,
   "id": "f91d93f1-dc6d-4e0d-af93-aaaa670386ab",
   "metadata": {
    "tags": []
   },
   "outputs": [
    {
     "data": {
      "text/plain": [
       "1"
      ]
     },
     "execution_count": 58,
     "metadata": {},
     "output_type": "execute_result"
    }
   ],
   "source": [
    "min_of_a = min(a)\n",
    "min_of_a"
   ]
  },
  {
   "cell_type": "markdown",
   "id": "acc92d33-3f68-4ee1-85db-77629907fdf1",
   "metadata": {
    "tags": []
   },
   "source": [
    "* Exercise 3 - Make a variable named max_of_a to hold the max number of all the numbers in the above list\n"
   ]
  },
  {
   "cell_type": "code",
   "execution_count": 59,
   "id": "f2e5ca22-ec58-4725-a46e-37face0ac9ac",
   "metadata": {
    "tags": []
   },
   "outputs": [
    {
     "data": {
      "text/plain": [
       "10"
      ]
     },
     "execution_count": 59,
     "metadata": {},
     "output_type": "execute_result"
    }
   ],
   "source": [
    "max_of_a = max(a)\n",
    "max_of_a"
   ]
  },
  {
   "cell_type": "markdown",
   "id": "d82b47f1-9ee7-4c32-b5b5-7f3ed2be4494",
   "metadata": {
    "tags": []
   },
   "source": [
    "* Exercise 4 - Make a variable named mean_of_a to hold the average of all the numbers in the above list\n"
   ]
  },
  {
   "cell_type": "code",
   "execution_count": 68,
   "id": "a5d45ce3-1968-44a9-9234-9f7c6065d3a7",
   "metadata": {
    "tags": []
   },
   "outputs": [
    {
     "data": {
      "text/plain": [
       "5.5"
      ]
     },
     "execution_count": 68,
     "metadata": {},
     "output_type": "execute_result"
    }
   ],
   "source": [
    "def average(a):\n",
    "    return sum(a) / len(a)\n",
    "mean_of_a = average(a)\n",
    "mean_of_a"
   ]
  },
  {
   "cell_type": "markdown",
   "id": "c269ba99-f555-4c4a-8743-1a395dab79cd",
   "metadata": {},
   "source": [
    "* Exercise 5 - Make a variable named product_of_a to hold the product of multiplying all the numbers in the above list together\n"
   ]
  },
  {
   "cell_type": "code",
   "execution_count": 69,
   "id": "3043b5a5-8a38-4017-8ba5-242d01771ad3",
   "metadata": {
    "tags": []
   },
   "outputs": [
    {
     "data": {
      "text/plain": [
       "3628800"
      ]
     },
     "execution_count": 69,
     "metadata": {},
     "output_type": "execute_result"
    }
   ],
   "source": [
    "def product(a):\n",
    "    result = 1\n",
    "    for x in a:\n",
    "        result = result * x\n",
    "    return result\n",
    "product_of_a = product(a)\n",
    "product_of_a"
   ]
  },
  {
   "cell_type": "markdown",
   "id": "9c4cd78b-4ce5-428e-9dfb-1dec9a3b02ac",
   "metadata": {
    "tags": []
   },
   "source": [
    "* Exercise 6 - Make a variable named squares_of_a. It should hold each number in a squared like [1, 4, 9, 16, 25...]\n"
   ]
  },
  {
   "cell_type": "code",
   "execution_count": 70,
   "id": "a8415d16-26bc-468e-8db6-b4a19504398e",
   "metadata": {
    "tags": []
   },
   "outputs": [
    {
     "data": {
      "text/plain": [
       "[1, 4, 9, 16, 25, 36, 49, 64, 81, 100]"
      ]
     },
     "execution_count": 70,
     "metadata": {},
     "output_type": "execute_result"
    }
   ],
   "source": [
    "def squared(a):\n",
    "    squares = []\n",
    "    for x in a:\n",
    "        squares.append(x**2)\n",
    "    return squares\n",
    "squares_of_a = squared(a)\n",
    "squares_of_a"
   ]
  },
  {
   "cell_type": "markdown",
   "id": "9cbf6f24-47e0-4b69-8984-fa236e4a042e",
   "metadata": {},
   "source": [
    "* Exercise 7 - Make a variable named odds_in_a. It should hold only the odd numbers\n"
   ]
  },
  {
   "cell_type": "code",
   "execution_count": 72,
   "id": "c8dc94cd-bee6-4407-806c-111832b5ac3a",
   "metadata": {
    "tags": []
   },
   "outputs": [
    {
     "data": {
      "text/plain": [
       "[1, 3, 5, 7, 9]"
      ]
     },
     "execution_count": 72,
     "metadata": {},
     "output_type": "execute_result"
    }
   ],
   "source": [
    "def odds(a):\n",
    "    odd_list = []\n",
    "    for x in a:\n",
    "        if x % 2 == 1:\n",
    "            odd_list.append(x)\n",
    "    return odd_list\n",
    "odds_in_a = odds(a)\n",
    "odds_in_a"
   ]
  },
  {
   "cell_type": "markdown",
   "id": "b20a98de-4c8a-4cc5-afff-6534c0f05951",
   "metadata": {},
   "source": [
    "* Exercise 8 - Make a variable named evens_in_a. It should hold only the evens.\n"
   ]
  },
  {
   "cell_type": "code",
   "execution_count": 73,
   "id": "ae7ee46f-6712-4bbf-8c50-a8fcdadd16d2",
   "metadata": {
    "tags": []
   },
   "outputs": [
    {
     "data": {
      "text/plain": [
       "[2, 4, 6, 8, 10]"
      ]
     },
     "execution_count": 73,
     "metadata": {},
     "output_type": "execute_result"
    }
   ],
   "source": [
    "def evens(a):\n",
    "    even_list = []\n",
    "    for x in a:\n",
    "        if x % 2 == 0:\n",
    "            even_list.append(x)\n",
    "    return even_list\n",
    "evens_in_a = evens(a)\n",
    "evens_in_a"
   ]
  },
  {
   "cell_type": "code",
   "execution_count": 74,
   "id": "3e483707-b9db-4e51-9169-728f8098abc7",
   "metadata": {
    "tags": []
   },
   "outputs": [],
   "source": [
    "## What about life in two dimensions? A list of lists is matrix, a table, a spreadsheet, a chessboard...\n",
    "## Setup 2: Consider what it would take to find the sum, min, max, average, sum, product, and list of squares for this list of two lists.\n",
    "b = [\n",
    "    [3, 4, 5],\n",
    "    [6, 7, 8]\n",
    "]"
   ]
  },
  {
   "cell_type": "markdown",
   "id": "4ea09894-5ac4-47de-8d81-8775b41cc127",
   "metadata": {},
   "source": [
    "* Exercise 1 - refactor the following to use numpy. Use sum_of_b as the variable. Hint, you'll first need to make sure that the \"b\" variable is a numpy array\n"
   ]
  },
  {
   "cell_type": "code",
   "execution_count": 77,
   "id": "e0b25ab5-0ddc-4269-8847-8c33078574fa",
   "metadata": {
    "tags": []
   },
   "outputs": [
    {
     "data": {
      "text/plain": [
       "33"
      ]
     },
     "execution_count": 77,
     "metadata": {},
     "output_type": "execute_result"
    }
   ],
   "source": [
    "b_array = np.array(b)\n",
    "sum_of_b = np.sum(b_array)\n",
    "sum_of_b"
   ]
  },
  {
   "cell_type": "markdown",
   "id": "7cc5550d-d590-4603-b752-b101f7959f8f",
   "metadata": {},
   "source": [
    "* Exercise 2 - refactor the following to use numpy. \n"
   ]
  },
  {
   "cell_type": "code",
   "execution_count": 80,
   "id": "4f7ad3dc-23c9-43e9-85ef-533160536548",
   "metadata": {
    "tags": []
   },
   "outputs": [
    {
     "data": {
      "text/plain": [
       "3"
      ]
     },
     "execution_count": 80,
     "metadata": {},
     "output_type": "execute_result"
    }
   ],
   "source": [
    "min_of_b = np.min(b_array) \n",
    "min_of_b"
   ]
  },
  {
   "cell_type": "markdown",
   "id": "c15f51f5-c2de-4d47-8283-d481a9e516bf",
   "metadata": {
    "tags": []
   },
   "source": [
    "* Exercise 3 - refactor the following maximum calculation to find the answer with numpy.\n"
   ]
  },
  {
   "cell_type": "code",
   "execution_count": 81,
   "id": "58cc02b0-3304-4a83-bbc0-8fa9f1acdbd2",
   "metadata": {
    "tags": []
   },
   "outputs": [
    {
     "data": {
      "text/plain": [
       "8"
      ]
     },
     "execution_count": 81,
     "metadata": {},
     "output_type": "execute_result"
    }
   ],
   "source": [
    "max_of_b = np.max(b_array)\n",
    "max_of_b"
   ]
  },
  {
   "cell_type": "markdown",
   "id": "51ace064-d72b-4030-bc8f-35941d5bb5d5",
   "metadata": {},
   "source": [
    "* Exercise 4 - refactor the following using numpy to find the mean of b\n"
   ]
  },
  {
   "cell_type": "code",
   "execution_count": 82,
   "id": "c6967f64-c85f-471a-a0a6-0cf76c8d285f",
   "metadata": {
    "tags": []
   },
   "outputs": [
    {
     "data": {
      "text/plain": [
       "5.5"
      ]
     },
     "execution_count": 82,
     "metadata": {},
     "output_type": "execute_result"
    }
   ],
   "source": [
    "mean_of_b = np.mean(b_array)\n",
    "mean_of_b"
   ]
  },
  {
   "cell_type": "markdown",
   "id": "720dd4d4-136d-4c9c-9664-da239bc86198",
   "metadata": {},
   "source": [
    "* Exercise 5 - refactor the following to use numpy for calculating the product of all numbers multiplied together.\n"
   ]
  },
  {
   "cell_type": "code",
   "execution_count": 83,
   "id": "940e4daf-5af9-4716-bb38-f426f96e0e74",
   "metadata": {
    "tags": []
   },
   "outputs": [
    {
     "data": {
      "text/plain": [
       "20160"
      ]
     },
     "execution_count": 83,
     "metadata": {},
     "output_type": "execute_result"
    }
   ],
   "source": [
    "product_of_b = np.prod(b_array)\n",
    "product_of_b"
   ]
  },
  {
   "cell_type": "markdown",
   "id": "65fc1a39-1f85-4147-a3fc-1f515f3d9680",
   "metadata": {},
   "source": [
    "* Exercise 6 - refactor the following to use numpy to find the list of squares \n"
   ]
  },
  {
   "cell_type": "code",
   "execution_count": 86,
   "id": "a15ac8b7-df1d-469c-9701-4ae955d5bc19",
   "metadata": {
    "tags": []
   },
   "outputs": [
    {
     "data": {
      "text/plain": [
       "array([[ 9, 16, 25],\n",
       "       [36, 49, 64]])"
      ]
     },
     "execution_count": 86,
     "metadata": {},
     "output_type": "execute_result"
    }
   ],
   "source": [
    "squares_of_b = np.square(b_array)\n",
    "squares_of_b"
   ]
  },
  {
   "cell_type": "markdown",
   "id": "5f787a82-a1ca-4a55-a09e-0456084deb49",
   "metadata": {},
   "source": [
    "* Exercise 7 - refactor using numpy to determine the odds_in_b\n"
   ]
  },
  {
   "cell_type": "code",
   "execution_count": 87,
   "id": "56ffea6b-bede-460f-8d60-93d9cdd276fc",
   "metadata": {
    "tags": []
   },
   "outputs": [
    {
     "data": {
      "text/plain": [
       "array([3, 5, 7])"
      ]
     },
     "execution_count": 87,
     "metadata": {},
     "output_type": "execute_result"
    }
   ],
   "source": [
    "odds_in_b = b_array % 2 == 1\n",
    "b_array[odds_in_b]"
   ]
  },
  {
   "cell_type": "markdown",
   "id": "818c90a6-03e6-440f-a7a9-59352534d5e4",
   "metadata": {},
   "source": [
    "* Exercise 8 - refactor the following to use numpy to filter only the even numbers\n"
   ]
  },
  {
   "cell_type": "code",
   "execution_count": 88,
   "id": "75a2c818-ae59-4993-a8da-5a708ea16cf3",
   "metadata": {
    "tags": []
   },
   "outputs": [
    {
     "data": {
      "text/plain": [
       "array([4, 6, 8])"
      ]
     },
     "execution_count": 88,
     "metadata": {},
     "output_type": "execute_result"
    }
   ],
   "source": [
    "evens_in_b = b_array % 2 == 0\n",
    "b_array[evens_in_b]"
   ]
  },
  {
   "cell_type": "markdown",
   "id": "4d86dde1-6273-4731-82cc-1e9a3d390490",
   "metadata": {},
   "source": [
    "* Exercise 9 - print out the shape of the array b.\n"
   ]
  },
  {
   "cell_type": "code",
   "execution_count": 90,
   "id": "4b60f776-82fd-432c-96a3-9ee8dbe50df5",
   "metadata": {
    "tags": []
   },
   "outputs": [
    {
     "data": {
      "text/plain": [
       "(2, 3)"
      ]
     },
     "execution_count": 90,
     "metadata": {},
     "output_type": "execute_result"
    }
   ],
   "source": [
    "b_array.shape"
   ]
  },
  {
   "cell_type": "markdown",
   "id": "ba362185-83db-4bc3-9b60-fe2e7c6e1384",
   "metadata": {},
   "source": [
    "* Exercise 10 - transpose the array b.\n"
   ]
  },
  {
   "cell_type": "code",
   "execution_count": 91,
   "id": "7393ba69-ff3b-49e0-9bfa-040ff9c87a5a",
   "metadata": {
    "tags": []
   },
   "outputs": [
    {
     "data": {
      "text/plain": [
       "array([[3, 6],\n",
       "       [4, 7],\n",
       "       [5, 8]])"
      ]
     },
     "execution_count": 91,
     "metadata": {},
     "output_type": "execute_result"
    }
   ],
   "source": [
    "b_array.transpose()"
   ]
  },
  {
   "cell_type": "markdown",
   "id": "4656bcec-0002-4cfa-8786-0f8d7458d54f",
   "metadata": {},
   "source": [
    "* Exercise 11 - reshape the array b to be a single list of 6 numbers. (1 x 6)\n"
   ]
  },
  {
   "cell_type": "code",
   "execution_count": 93,
   "id": "3b3449b9-2e45-4ac3-aac1-f30c4b686ab0",
   "metadata": {
    "tags": []
   },
   "outputs": [
    {
     "data": {
      "text/plain": [
       "array([[3, 4, 5, 6, 7, 8]])"
      ]
     },
     "execution_count": 93,
     "metadata": {},
     "output_type": "execute_result"
    }
   ],
   "source": [
    "b_array.reshape(1,6)"
   ]
  },
  {
   "cell_type": "markdown",
   "id": "7b8a7dc5-23ee-4a4f-bf67-190b2186b522",
   "metadata": {},
   "source": [
    "* Exercise 12 - reshape the array b to be a list of 6 lists, each containing only 1 number (6 x 1)\n"
   ]
  },
  {
   "cell_type": "code",
   "execution_count": 94,
   "id": "3f11fcc0-1d71-4213-835e-f27722415189",
   "metadata": {
    "tags": []
   },
   "outputs": [
    {
     "data": {
      "text/plain": [
       "array([[3],\n",
       "       [4],\n",
       "       [5],\n",
       "       [6],\n",
       "       [7],\n",
       "       [8]])"
      ]
     },
     "execution_count": 94,
     "metadata": {},
     "output_type": "execute_result"
    }
   ],
   "source": [
    "b_array.reshape(6,1)"
   ]
  },
  {
   "cell_type": "code",
   "execution_count": 95,
   "id": "02d7c265-89e7-4816-8abd-98dcaa41313c",
   "metadata": {
    "tags": []
   },
   "outputs": [],
   "source": [
    "## Setup 3\n",
    "c = [\n",
    "    [1, 2, 3],\n",
    "    [4, 5, 6],\n",
    "    [7, 8, 9]\n",
    "]"
   ]
  },
  {
   "cell_type": "markdown",
   "id": "6f828ff2-8df6-461b-8e48-2556076da6a3",
   "metadata": {},
   "source": [
    "* HINT, you'll first need to make sure that the \"c\" variable is a numpy array prior to using numpy array methods.\n",
    "* Exercise 1 - Find the min, max, sum, and product of c."
   ]
  },
  {
   "cell_type": "code",
   "execution_count": 100,
   "id": "d0a1e938-48a4-44bb-a60f-185489b2c534",
   "metadata": {
    "tags": []
   },
   "outputs": [
    {
     "name": "stdout",
     "output_type": "stream",
     "text": [
      "1\n",
      "9\n",
      "45\n",
      "362880\n"
     ]
    }
   ],
   "source": [
    "c_array = np.array(c)\n",
    "print(np.min(c_array))\n",
    "print(np.max(c_array))\n",
    "print(np.sum(c_array))\n",
    "print(np.prod(c_array))"
   ]
  },
  {
   "cell_type": "markdown",
   "id": "6c4231a0-23fc-4ec8-ac79-0adf52eb48e1",
   "metadata": {},
   "source": [
    "* Exercise 2 - Determine the standard deviation of c.\n"
   ]
  },
  {
   "cell_type": "code",
   "execution_count": 101,
   "id": "d49707ee-3731-4918-b9ed-95bf6acc6e53",
   "metadata": {
    "tags": []
   },
   "outputs": [
    {
     "data": {
      "text/plain": [
       "2.581988897471611"
      ]
     },
     "execution_count": 101,
     "metadata": {},
     "output_type": "execute_result"
    }
   ],
   "source": [
    "np.std(c_array)"
   ]
  },
  {
   "cell_type": "markdown",
   "id": "6f72a719-2260-45d0-bff8-4f939f422d8e",
   "metadata": {},
   "source": [
    "* Exercise 3 - Determine the variance of c.\n"
   ]
  },
  {
   "cell_type": "code",
   "execution_count": 102,
   "id": "36fbb62a-c503-4111-b319-68b584ec202e",
   "metadata": {
    "tags": []
   },
   "outputs": [
    {
     "data": {
      "text/plain": [
       "6.666666666666667"
      ]
     },
     "execution_count": 102,
     "metadata": {},
     "output_type": "execute_result"
    }
   ],
   "source": [
    "np.var(c_array)"
   ]
  },
  {
   "cell_type": "markdown",
   "id": "68d354f0-9eec-4ecb-95eb-79585722a400",
   "metadata": {},
   "source": [
    "* Exercise 4 - Print out the shape of the array c\n"
   ]
  },
  {
   "cell_type": "code",
   "execution_count": 103,
   "id": "d26d9898-9a44-4ee3-9276-a7591c09fc46",
   "metadata": {
    "tags": []
   },
   "outputs": [
    {
     "data": {
      "text/plain": [
       "(3, 3)"
      ]
     },
     "execution_count": 103,
     "metadata": {},
     "output_type": "execute_result"
    }
   ],
   "source": [
    "np.shape(c_array)"
   ]
  },
  {
   "cell_type": "markdown",
   "id": "9564dfd3-ed6f-4589-98de-bcc03ee7a502",
   "metadata": {},
   "source": [
    "* Exercise 5 - Transpose c and print out transposed result.\n"
   ]
  },
  {
   "cell_type": "code",
   "execution_count": 107,
   "id": "681169ae-3db0-4da2-9434-9cd11151a1e7",
   "metadata": {
    "tags": []
   },
   "outputs": [
    {
     "data": {
      "text/plain": [
       "array([[1, 4, 7],\n",
       "       [2, 5, 8],\n",
       "       [3, 6, 9]])"
      ]
     },
     "execution_count": 107,
     "metadata": {},
     "output_type": "execute_result"
    }
   ],
   "source": [
    "transpose = np.transpose(c_array)\n",
    "transpose"
   ]
  },
  {
   "cell_type": "markdown",
   "id": "c4cf7c82-223a-4eb7-8216-f3ed3af9370e",
   "metadata": {},
   "source": [
    "* Exercise 6 - Get the dot product of the array c with c. \n"
   ]
  },
  {
   "cell_type": "code",
   "execution_count": 105,
   "id": "ac273750-54c9-43f9-963d-e65b7c99ba15",
   "metadata": {
    "tags": []
   },
   "outputs": [
    {
     "data": {
      "text/plain": [
       "array([[ 30,  36,  42],\n",
       "       [ 66,  81,  96],\n",
       "       [102, 126, 150]])"
      ]
     },
     "execution_count": 105,
     "metadata": {},
     "output_type": "execute_result"
    }
   ],
   "source": [
    "np.dot(c_array, c)"
   ]
  },
  {
   "cell_type": "markdown",
   "id": "a8869aee-6acc-4687-8332-33196e45f0c3",
   "metadata": {},
   "source": [
    "* Exercise 7 - Write the code necessary to sum up the result of c times c transposed. Answer should be 261\n"
   ]
  },
  {
   "cell_type": "code",
   "execution_count": 110,
   "id": "d036e503-bfd3-455e-adcf-12d7e972ee74",
   "metadata": {
    "tags": []
   },
   "outputs": [
    {
     "data": {
      "text/plain": [
       "261"
      ]
     },
     "execution_count": 110,
     "metadata": {},
     "output_type": "execute_result"
    }
   ],
   "source": [
    "np.sum(c * transpose)"
   ]
  },
  {
   "cell_type": "markdown",
   "id": "624bfc15-07c7-4ef9-bc65-9c4fdeba05a4",
   "metadata": {},
   "source": [
    "* Exercise 8 - Write the code necessary to determine the product of c times c transposed. Answer should be 131681894400.\n"
   ]
  },
  {
   "cell_type": "code",
   "execution_count": 111,
   "id": "f76d2361-a5d6-42ae-88ce-5b4ff2a31de0",
   "metadata": {
    "tags": []
   },
   "outputs": [
    {
     "data": {
      "text/plain": [
       "131681894400"
      ]
     },
     "execution_count": 111,
     "metadata": {},
     "output_type": "execute_result"
    }
   ],
   "source": [
    "np.prod(c * transpose)"
   ]
  },
  {
   "cell_type": "code",
   "execution_count": 112,
   "id": "80686c8f-209d-43d6-ab02-d31b89c5dad0",
   "metadata": {
    "tags": []
   },
   "outputs": [],
   "source": [
    "## Setup 4\n",
    "d = [\n",
    "    [90, 30, 45, 0, 120, 180],\n",
    "    [45, -90, -30, 270, 90, 0],\n",
    "    [60, 45, -45, 90, -45, 180]\n",
    "]"
   ]
  },
  {
   "cell_type": "markdown",
   "id": "8fe558f3-6abd-4d58-815d-3d168c79dabd",
   "metadata": {},
   "source": [
    "* Exercise 1 - Find the sine of all the numbers in d\n"
   ]
  },
  {
   "cell_type": "code",
   "execution_count": 115,
   "id": "9c5a968b-d6c3-46ca-a61f-7d86ae899a6e",
   "metadata": {
    "tags": []
   },
   "outputs": [
    {
     "data": {
      "text/plain": [
       "array([[ 0.89399666, -0.98803162,  0.85090352,  0.        ,  0.58061118,\n",
       "        -0.80115264],\n",
       "       [ 0.85090352, -0.89399666,  0.98803162, -0.17604595,  0.89399666,\n",
       "         0.        ],\n",
       "       [-0.30481062,  0.85090352, -0.85090352,  0.89399666, -0.85090352,\n",
       "        -0.80115264]])"
      ]
     },
     "execution_count": 115,
     "metadata": {},
     "output_type": "execute_result"
    }
   ],
   "source": [
    "d_array = np.array(d)\n",
    "np.sin(d_array)"
   ]
  },
  {
   "cell_type": "markdown",
   "id": "d5d56994-baf7-4d20-b194-7249fe20bcee",
   "metadata": {},
   "source": [
    "* Exercise 2 - Find the cosine of all the numbers in d\n"
   ]
  },
  {
   "cell_type": "code",
   "execution_count": 117,
   "id": "07bb5d20-bf51-45b0-8d27-5862c54d81cd",
   "metadata": {
    "tags": []
   },
   "outputs": [
    {
     "data": {
      "text/plain": [
       "array([[-0.44807362,  0.15425145,  0.52532199,  1.        ,  0.81418097,\n",
       "        -0.59846007],\n",
       "       [ 0.52532199, -0.44807362,  0.15425145,  0.98438195, -0.44807362,\n",
       "         1.        ],\n",
       "       [-0.95241298,  0.52532199,  0.52532199, -0.44807362,  0.52532199,\n",
       "        -0.59846007]])"
      ]
     },
     "execution_count": 117,
     "metadata": {},
     "output_type": "execute_result"
    }
   ],
   "source": [
    "np.cos(d_array)"
   ]
  },
  {
   "cell_type": "markdown",
   "id": "b4bc640d-273f-4c1f-bea4-72cf89957744",
   "metadata": {},
   "source": [
    "* Exercise 3 - Find the tangent of all the numbers in d\n"
   ]
  },
  {
   "cell_type": "code",
   "execution_count": 119,
   "id": "8c8acd75-590d-43c0-8863-7e53794ce4cc",
   "metadata": {
    "tags": []
   },
   "outputs": [
    {
     "data": {
      "text/plain": [
       "array([[-1.99520041, -6.4053312 ,  1.61977519,  0.        ,  0.71312301,\n",
       "         1.33869021],\n",
       "       [ 1.61977519,  1.99520041,  6.4053312 , -0.17883906, -1.99520041,\n",
       "         0.        ],\n",
       "       [ 0.32004039,  1.61977519, -1.61977519, -1.99520041, -1.61977519,\n",
       "         1.33869021]])"
      ]
     },
     "execution_count": 119,
     "metadata": {},
     "output_type": "execute_result"
    }
   ],
   "source": [
    "np.tan(d_array)"
   ]
  },
  {
   "cell_type": "markdown",
   "id": "0bedc957-8734-4be2-aede-40fb6b64b370",
   "metadata": {},
   "source": [
    "* Exercise 4 - Find all the negative numbers in d\n"
   ]
  },
  {
   "cell_type": "code",
   "execution_count": 122,
   "id": "3155121f-83a4-4425-9e7e-32a1b86f1b38",
   "metadata": {
    "tags": []
   },
   "outputs": [
    {
     "data": {
      "text/plain": [
       "array([-90, -30, -45, -45])"
      ]
     },
     "execution_count": 122,
     "metadata": {},
     "output_type": "execute_result"
    }
   ],
   "source": [
    "negative_nums = d_array < 0\n",
    "d_array[negative_nums]"
   ]
  },
  {
   "cell_type": "markdown",
   "id": "4938fd12-5d43-4232-9cf4-8c0054321452",
   "metadata": {},
   "source": [
    "* Exercise 5 - Find all the positive numbers in d\n"
   ]
  },
  {
   "cell_type": "code",
   "execution_count": 123,
   "id": "d0cf9bf6-2c8e-4884-9fc7-f066a60dcee0",
   "metadata": {
    "tags": []
   },
   "outputs": [
    {
     "data": {
      "text/plain": [
       "array([ 90,  30,  45,   0, 120, 180,  45, 270,  90,   0,  60,  45,  90,\n",
       "       180])"
      ]
     },
     "execution_count": 123,
     "metadata": {},
     "output_type": "execute_result"
    }
   ],
   "source": [
    "positive_nums = d_array >= 0\n",
    "d_array[positive_nums]"
   ]
  },
  {
   "cell_type": "markdown",
   "id": "e8fab939-a623-4e37-ad66-513271f6a1ee",
   "metadata": {},
   "source": [
    "* Exercise 6 - Return an array of only the unique numbers in d.\n"
   ]
  },
  {
   "cell_type": "code",
   "execution_count": 124,
   "id": "6d3eb72e-32e9-44e4-8b4b-826e71564973",
   "metadata": {
    "tags": []
   },
   "outputs": [
    {
     "data": {
      "text/plain": [
       "array([-90, -45, -30,   0,  30,  45,  60,  90, 120, 180, 270])"
      ]
     },
     "execution_count": 124,
     "metadata": {},
     "output_type": "execute_result"
    }
   ],
   "source": [
    "np.unique(d_array)"
   ]
  },
  {
   "cell_type": "markdown",
   "id": "9061b4eb-8f8b-43af-87ed-6761d7f22660",
   "metadata": {},
   "source": [
    "* Exercise 7 - Determine how many unique numbers there are in d.\n"
   ]
  },
  {
   "cell_type": "code",
   "execution_count": 125,
   "id": "83e8fb3f-afbf-4d9c-868c-6140775c0e35",
   "metadata": {
    "tags": []
   },
   "outputs": [
    {
     "data": {
      "text/plain": [
       "11"
      ]
     },
     "execution_count": 125,
     "metadata": {},
     "output_type": "execute_result"
    }
   ],
   "source": [
    "len(np.unique(d_array))"
   ]
  },
  {
   "cell_type": "markdown",
   "id": "a26860bd-6232-45e8-8018-36c703414d1d",
   "metadata": {},
   "source": [
    "* Exercise 8 - Print out the shape of d.\n"
   ]
  },
  {
   "cell_type": "code",
   "execution_count": 126,
   "id": "cbb0d2e0-14b0-41dc-9b10-8cd8853c2e2d",
   "metadata": {
    "tags": []
   },
   "outputs": [
    {
     "data": {
      "text/plain": [
       "(3, 6)"
      ]
     },
     "execution_count": 126,
     "metadata": {},
     "output_type": "execute_result"
    }
   ],
   "source": [
    "np.shape(d_array)"
   ]
  },
  {
   "cell_type": "markdown",
   "id": "b91c6976-4877-44d4-b8e5-c6d2762d25fd",
   "metadata": {},
   "source": [
    "* Exercise 9 - Transpose and then print out the shape of d.\n"
   ]
  },
  {
   "cell_type": "code",
   "execution_count": 127,
   "id": "424ed38c-8920-4c70-99da-eda73dedcbfb",
   "metadata": {
    "tags": []
   },
   "outputs": [
    {
     "data": {
      "text/plain": [
       "array([[ 90,  45,  60],\n",
       "       [ 30, -90,  45],\n",
       "       [ 45, -30, -45],\n",
       "       [  0, 270,  90],\n",
       "       [120,  90, -45],\n",
       "       [180,   0, 180]])"
      ]
     },
     "execution_count": 127,
     "metadata": {},
     "output_type": "execute_result"
    }
   ],
   "source": [
    "np.transpose(d_array)"
   ]
  },
  {
   "cell_type": "markdown",
   "id": "3f09f8b9-1e98-4371-9e25-294bb3a63092",
   "metadata": {},
   "source": [
    "* Exercise 10 - Reshape d into an array of 9 x 2\n"
   ]
  },
  {
   "cell_type": "code",
   "execution_count": 129,
   "id": "4aeab122-641e-4a8d-9347-501092175ecb",
   "metadata": {
    "tags": []
   },
   "outputs": [
    {
     "data": {
      "text/plain": [
       "array([[ 90,  30],\n",
       "       [ 45,   0],\n",
       "       [120, 180],\n",
       "       [ 45, -90],\n",
       "       [-30, 270],\n",
       "       [ 90,   0],\n",
       "       [ 60,  45],\n",
       "       [-45,  90],\n",
       "       [-45, 180]])"
      ]
     },
     "execution_count": 129,
     "metadata": {},
     "output_type": "execute_result"
    }
   ],
   "source": [
    "d_array.reshape(9,2)"
   ]
  }
 ],
 "metadata": {
  "kernelspec": {
   "display_name": "Python 3 (ipykernel)",
   "language": "python",
   "name": "python3"
  },
  "language_info": {
   "codemirror_mode": {
    "name": "ipython",
    "version": 3
   },
   "file_extension": ".py",
   "mimetype": "text/x-python",
   "name": "python",
   "nbconvert_exporter": "python",
   "pygments_lexer": "ipython3",
   "version": "3.11.5"
  }
 },
 "nbformat": 4,
 "nbformat_minor": 5
}
