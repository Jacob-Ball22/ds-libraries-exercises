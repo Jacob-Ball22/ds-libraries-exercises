{
 "cells": [
  {
   "cell_type": "markdown",
   "id": "5c906436-5764-4056-be24-a6572e806b4d",
   "metadata": {},
   "source": [
    "**Use pandas to create a Series named fruits from the following list:**"
   ]
  },
  {
   "cell_type": "code",
   "execution_count": 181,
   "id": "e14bb66e-6ee4-479b-8dc4-c2e34f27d7c4",
   "metadata": {
    "tags": []
   },
   "outputs": [
    {
     "data": {
      "text/plain": [
       "0                 kiwi\n",
       "1                mango\n",
       "2           strawberry\n",
       "3            pineapple\n",
       "4           gala apple\n",
       "5     honeycrisp apple\n",
       "6               tomato\n",
       "7           watermelon\n",
       "8             honeydew\n",
       "9                 kiwi\n",
       "10                kiwi\n",
       "11                kiwi\n",
       "12               mango\n",
       "13           blueberry\n",
       "14          blackberry\n",
       "15          gooseberry\n",
       "16              papaya\n",
       "dtype: object"
      ]
     },
     "execution_count": 181,
     "metadata": {},
     "output_type": "execute_result"
    }
   ],
   "source": [
    "import pandas as pd\n",
    "import numpy as np\n",
    "from matplotlib import pyplot as plot\n",
    "\n",
    "fruits = pd.Series([\"kiwi\", \"mango\", \"strawberry\", \"pineapple\", \"gala apple\", \"honeycrisp apple\", \"tomato\", \"watermelon\",\\\n",
    "                      \"honeydew\", \"kiwi\", \"kiwi\", \"kiwi\", \"mango\", \"blueberry\", \"blackberry\", \"gooseberry\", \"papaya\"])\n",
    "fruits"
   ]
  },
  {
   "cell_type": "markdown",
   "id": "302de7e7-9c9a-40da-b710-978acbbbe925",
   "metadata": {},
   "source": [
    "**Use Series attributes and methods to explore your fruits Series.**"
   ]
  },
  {
   "cell_type": "markdown",
   "id": "b68c01a8-2a76-47fa-93a4-5525a0641b14",
   "metadata": {},
   "source": [
    "1. Determine the number of elements in fruits."
   ]
  },
  {
   "cell_type": "code",
   "execution_count": 3,
   "id": "65c6d306-25ce-4071-b28d-8ba80c6c386c",
   "metadata": {
    "tags": []
   },
   "outputs": [
    {
     "data": {
      "text/plain": [
       "17"
      ]
     },
     "execution_count": 3,
     "metadata": {},
     "output_type": "execute_result"
    }
   ],
   "source": [
    "len(fruits)"
   ]
  },
  {
   "cell_type": "markdown",
   "id": "cb21b177-a34f-4256-8634-ed5e8c29771f",
   "metadata": {},
   "source": [
    "2. Output only the index from fruits.\n",
    "\n"
   ]
  },
  {
   "cell_type": "code",
   "execution_count": 4,
   "id": "e67cddd8-114c-4f86-8e55-5a3360f3cfe7",
   "metadata": {
    "tags": []
   },
   "outputs": [
    {
     "data": {
      "text/plain": [
       "RangeIndex(start=0, stop=17, step=1)"
      ]
     },
     "execution_count": 4,
     "metadata": {},
     "output_type": "execute_result"
    }
   ],
   "source": [
    "fruits.index"
   ]
  },
  {
   "cell_type": "markdown",
   "id": "ae4d4578-0ca7-407e-b8a0-e057f931d32b",
   "metadata": {},
   "source": []
  },
  {
   "cell_type": "code",
   "execution_count": 6,
   "id": "28d95a3d-87a9-446c-ba53-534b14127d58",
   "metadata": {
    "tags": []
   },
   "outputs": [
    {
     "data": {
      "text/plain": [
       "array(['kiwi', 'mango', 'strawberry', 'pineapple', 'gala apple',\n",
       "       'honeycrisp apple', 'tomato', 'watermelon', 'honeydew', 'kiwi',\n",
       "       'kiwi', 'kiwi', 'mango', 'blueberry', 'blackberry', 'gooseberry',\n",
       "       'papaya'], dtype=object)"
      ]
     },
     "execution_count": 6,
     "metadata": {},
     "output_type": "execute_result"
    }
   ],
   "source": [
    "fruits.values"
   ]
  },
  {
   "cell_type": "markdown",
   "id": "1ceb1b83-b04b-45a9-8eac-c9cd2c16cd5a",
   "metadata": {},
   "source": [
    "4. Confirm the data type of the values in fruits.\n",
    "\n"
   ]
  },
  {
   "cell_type": "code",
   "execution_count": 7,
   "id": "ebc9e8a1-8691-42a7-9e68-ede45a81b90d",
   "metadata": {
    "tags": []
   },
   "outputs": [
    {
     "data": {
      "text/plain": [
       "pandas.core.series.Series"
      ]
     },
     "execution_count": 7,
     "metadata": {},
     "output_type": "execute_result"
    }
   ],
   "source": [
    "type(fruits)"
   ]
  },
  {
   "cell_type": "markdown",
   "id": "e6138e9b-817e-48cb-af48-df8fa323baa3",
   "metadata": {},
   "source": [
    "5. Output only the first five values from fruits. Output the last three values. Output two random values from fruits.\n",
    "\n"
   ]
  },
  {
   "cell_type": "code",
   "execution_count": 13,
   "id": "48b2e32b-3289-4da4-96f5-b0d9cd77f42c",
   "metadata": {
    "tags": []
   },
   "outputs": [
    {
     "name": "stdout",
     "output_type": "stream",
     "text": [
      "0          kiwi\n",
      "1         mango\n",
      "2    strawberry\n",
      "3     pineapple\n",
      "4    gala apple\n",
      "dtype: object\n",
      "14    blackberry\n",
      "15    gooseberry\n",
      "16        papaya\n",
      "dtype: object\n",
      "12         mango\n",
      "2     strawberry\n",
      "dtype: object\n"
     ]
    }
   ],
   "source": [
    "print(fruits.head())\n",
    "print(fruits.tail(3))\n",
    "print(fruits.sample(2))"
   ]
  },
  {
   "cell_type": "markdown",
   "id": "cad5b648-2955-454a-9558-f541b027af65",
   "metadata": {},
   "source": [
    "6. Run the .describe() on fruits to see what information it returns when called on a Series with string values.\n",
    "\n"
   ]
  },
  {
   "cell_type": "code",
   "execution_count": 14,
   "id": "3b9f84a4-f1ff-4127-905f-42dc77e627f3",
   "metadata": {
    "tags": []
   },
   "outputs": [
    {
     "data": {
      "text/plain": [
       "count       17\n",
       "unique      13\n",
       "top       kiwi\n",
       "freq         4\n",
       "dtype: object"
      ]
     },
     "execution_count": 14,
     "metadata": {},
     "output_type": "execute_result"
    }
   ],
   "source": [
    "fruits.describe()"
   ]
  },
  {
   "cell_type": "markdown",
   "id": "96fbeb1d-75b7-4461-94b0-a42bd838a558",
   "metadata": {},
   "source": [
    "7. Run the code necessary to produce only the unique string values from fruits.\n",
    "\n"
   ]
  },
  {
   "cell_type": "code",
   "execution_count": 15,
   "id": "be8ca7a8-8372-4855-902c-4c5f97fc1147",
   "metadata": {
    "tags": []
   },
   "outputs": [
    {
     "data": {
      "text/plain": [
       "array(['kiwi', 'mango', 'strawberry', 'pineapple', 'gala apple',\n",
       "       'honeycrisp apple', 'tomato', 'watermelon', 'honeydew',\n",
       "       'blueberry', 'blackberry', 'gooseberry', 'papaya'], dtype=object)"
      ]
     },
     "execution_count": 15,
     "metadata": {},
     "output_type": "execute_result"
    }
   ],
   "source": [
    "fruits.unique()"
   ]
  },
  {
   "cell_type": "markdown",
   "id": "7c86379b-7412-48c0-b432-687f09333c1b",
   "metadata": {},
   "source": [
    "8. Determine how many times each unique string value occurs in fruits.\n",
    "\n"
   ]
  },
  {
   "cell_type": "code",
   "execution_count": 22,
   "id": "21bc1be1-3dc3-49f7-ae9c-fe0049458ea9",
   "metadata": {
    "tags": []
   },
   "outputs": [
    {
     "data": {
      "text/plain": [
       "kiwi                4\n",
       "mango               2\n",
       "strawberry          1\n",
       "pineapple           1\n",
       "gala apple          1\n",
       "honeycrisp apple    1\n",
       "tomato              1\n",
       "watermelon          1\n",
       "honeydew            1\n",
       "blueberry           1\n",
       "blackberry          1\n",
       "gooseberry          1\n",
       "papaya              1\n",
       "Name: count, dtype: int64"
      ]
     },
     "execution_count": 22,
     "metadata": {},
     "output_type": "execute_result"
    }
   ],
   "source": [
    "unique_counts = fruits.value_counts()\n",
    "unique_counts"
   ]
  },
  {
   "cell_type": "markdown",
   "id": "f32b32c2-d375-4935-a5ae-9e8314b41f85",
   "metadata": {},
   "source": [
    "9. Determine the string value that occurs most frequently in fruits.\n",
    "\n"
   ]
  },
  {
   "cell_type": "code",
   "execution_count": 63,
   "id": "03c4e496-ac3f-4fba-9496-0ff42414ac8e",
   "metadata": {
    "tags": []
   },
   "outputs": [
    {
     "data": {
      "text/plain": [
       "'kiwi'"
      ]
     },
     "execution_count": 63,
     "metadata": {},
     "output_type": "execute_result"
    }
   ],
   "source": [
    "unique_counts.idxmax()"
   ]
  },
  {
   "cell_type": "markdown",
   "id": "66556361-16c5-456d-a704-73cc83e3605a",
   "metadata": {},
   "source": [
    "10. Determine the string value that occurs least frequently in fruits.\n",
    "\n"
   ]
  },
  {
   "cell_type": "code",
   "execution_count": 64,
   "id": "1dcf8330-3836-44b3-8b06-5cf505c97411",
   "metadata": {
    "tags": []
   },
   "outputs": [
    {
     "data": {
      "text/plain": [
       "'strawberry'"
      ]
     },
     "execution_count": 64,
     "metadata": {},
     "output_type": "execute_result"
    }
   ],
   "source": [
    "unique_counts.idxmin()"
   ]
  },
  {
   "cell_type": "markdown",
   "id": "da940051-952d-4cfb-871f-9fe4a2da115b",
   "metadata": {},
   "source": [
    "**Exercises Part II**"
   ]
  },
  {
   "cell_type": "markdown",
   "id": "b5805319-e1f4-4485-bd93-1a5294ae65c4",
   "metadata": {},
   "source": [
    "1. Capitalize all the string values in fruits.\n",
    "\n"
   ]
  },
  {
   "cell_type": "code",
   "execution_count": 79,
   "id": "57935336-c479-416d-9920-98a78e426b4c",
   "metadata": {
    "tags": []
   },
   "outputs": [
    {
     "data": {
      "text/plain": [
       "0                 KIWI\n",
       "1                MANGO\n",
       "2           STRAWBERRY\n",
       "3            PINEAPPLE\n",
       "4           GALA APPLE\n",
       "5     HONEYCRISP APPLE\n",
       "6               TOMATO\n",
       "7           WATERMELON\n",
       "8             HONEYDEW\n",
       "9                 KIWI\n",
       "10                KIWI\n",
       "11                KIWI\n",
       "12               MANGO\n",
       "13           BLUEBERRY\n",
       "14          BLACKBERRY\n",
       "15          GOOSEBERRY\n",
       "16              PAPAYA\n",
       "dtype: object"
      ]
     },
     "execution_count": 79,
     "metadata": {},
     "output_type": "execute_result"
    }
   ],
   "source": [
    "fruits.str.upper()"
   ]
  },
  {
   "cell_type": "markdown",
   "id": "cf19bc64-3ee0-4206-9b36-88a51cc744aa",
   "metadata": {},
   "source": [
    "2. Count the letter \"a\" in all the string values (use string vectorization).\n",
    "\n"
   ]
  },
  {
   "cell_type": "code",
   "execution_count": 87,
   "id": "0ab5ab53-107b-4abd-be82-9e75df618384",
   "metadata": {
    "tags": []
   },
   "outputs": [
    {
     "data": {
      "text/plain": [
       "0     0\n",
       "1     1\n",
       "2     1\n",
       "3     1\n",
       "4     3\n",
       "5     1\n",
       "6     1\n",
       "7     1\n",
       "8     0\n",
       "9     0\n",
       "10    0\n",
       "11    0\n",
       "12    1\n",
       "13    0\n",
       "14    1\n",
       "15    0\n",
       "16    3\n",
       "dtype: int64"
      ]
     },
     "execution_count": 87,
     "metadata": {},
     "output_type": "execute_result"
    }
   ],
   "source": [
    "fruits.str.count('a')"
   ]
  },
  {
   "cell_type": "markdown",
   "id": "4d53594a-d43f-40a9-b37b-f955726b83be",
   "metadata": {},
   "source": [
    "3. Output the number of vowels in each and every string value.\n",
    "\n"
   ]
  },
  {
   "cell_type": "code",
   "execution_count": 92,
   "id": "1ca6cc44-c4ed-4c28-b590-26e283872105",
   "metadata": {
    "tags": []
   },
   "outputs": [
    {
     "data": {
      "text/plain": [
       "0     2\n",
       "1     2\n",
       "2     2\n",
       "3     4\n",
       "4     4\n",
       "5     5\n",
       "6     3\n",
       "7     4\n",
       "8     3\n",
       "9     2\n",
       "10    2\n",
       "11    2\n",
       "12    2\n",
       "13    3\n",
       "14    2\n",
       "15    4\n",
       "16    3\n",
       "dtype: int64"
      ]
     },
     "execution_count": 92,
     "metadata": {},
     "output_type": "execute_result"
    }
   ],
   "source": [
    "fruits.str.count('[aeiou]')"
   ]
  },
  {
   "cell_type": "markdown",
   "id": "019101a3-dc37-408a-9e03-737d61b9e7bf",
   "metadata": {},
   "source": [
    "4. Write the code to get the longest string value from fruits.\n",
    "\n"
   ]
  },
  {
   "cell_type": "code",
   "execution_count": 115,
   "id": "f664253e-9f36-4a41-a4b5-867299e1bc60",
   "metadata": {
    "tags": []
   },
   "outputs": [
    {
     "data": {
      "text/plain": [
       "'honeycrisp apple'"
      ]
     },
     "execution_count": 115,
     "metadata": {},
     "output_type": "execute_result"
    }
   ],
   "source": [
    "string_value = fruits.apply(len)\n",
    "index_longest = string_value.idxmax()\n",
    "fruits.loc[index_longest]"
   ]
  },
  {
   "cell_type": "markdown",
   "id": "3a372114-7a24-4e9c-a64a-8d2ff93bddbd",
   "metadata": {},
   "source": [
    "5. Write the code to get the string values with 5 or more letters in the name.\n",
    "\n"
   ]
  },
  {
   "cell_type": "code",
   "execution_count": 116,
   "id": "26849ec3-6769-4bdc-b2ed-45dbbc3a914f",
   "metadata": {
    "tags": []
   },
   "outputs": [
    {
     "data": {
      "text/plain": [
       "1                mango\n",
       "2           strawberry\n",
       "3            pineapple\n",
       "4           gala apple\n",
       "5     honeycrisp apple\n",
       "6               tomato\n",
       "7           watermelon\n",
       "8             honeydew\n",
       "12               mango\n",
       "13           blueberry\n",
       "14          blackberry\n",
       "15          gooseberry\n",
       "16              papaya\n",
       "dtype: object"
      ]
     },
     "execution_count": 116,
     "metadata": {},
     "output_type": "execute_result"
    }
   ],
   "source": [
    "string_value = fruits.apply(len)\n",
    "index_longest = string_value >= 5\n",
    "fruits.loc[index_longest]"
   ]
  },
  {
   "cell_type": "markdown",
   "id": "243ad815-ec91-4b47-9f92-4fbe2a284ee0",
   "metadata": {},
   "source": [
    "6. Find the fruit(s) containing the letter \"o\" two or more times.\n",
    "\n"
   ]
  },
  {
   "cell_type": "code",
   "execution_count": 121,
   "id": "8b68bbe5-3299-4e7d-8f56-b82790191d4c",
   "metadata": {
    "tags": []
   },
   "outputs": [
    {
     "data": {
      "text/plain": [
       "6         tomato\n",
       "15    gooseberry\n",
       "dtype: object"
      ]
     },
     "execution_count": 121,
     "metadata": {},
     "output_type": "execute_result"
    }
   ],
   "source": [
    "count_more_2 = (fruits.str.count('o') >= 2)\n",
    "fruits[count_more_2]"
   ]
  },
  {
   "cell_type": "markdown",
   "id": "f2ba2ab2-1a7a-4f77-9817-116fe1face0d",
   "metadata": {},
   "source": [
    "7. Write the code to get only the string values containing the substring \"berry\".\n",
    "\n"
   ]
  },
  {
   "cell_type": "code",
   "execution_count": 123,
   "id": "f41067fe-181c-4954-912b-b864a2b42f76",
   "metadata": {
    "tags": []
   },
   "outputs": [
    {
     "data": {
      "text/plain": [
       "2     strawberry\n",
       "13     blueberry\n",
       "14    blackberry\n",
       "15    gooseberry\n",
       "dtype: object"
      ]
     },
     "execution_count": 123,
     "metadata": {},
     "output_type": "execute_result"
    }
   ],
   "source": [
    "berry = fruits.str.contains('berry')\n",
    "fruits[berry]"
   ]
  },
  {
   "cell_type": "markdown",
   "id": "69288ad9-aa12-483d-8d5c-a9fbd2131a37",
   "metadata": {},
   "source": [
    "8. Write the code to get only the string values containing the substring \"apple\".\n",
    "\n"
   ]
  },
  {
   "cell_type": "code",
   "execution_count": 124,
   "id": "ba4adc11-acb9-4219-be60-b49086a5967f",
   "metadata": {
    "tags": []
   },
   "outputs": [
    {
     "data": {
      "text/plain": [
       "3           pineapple\n",
       "4          gala apple\n",
       "5    honeycrisp apple\n",
       "dtype: object"
      ]
     },
     "execution_count": 124,
     "metadata": {},
     "output_type": "execute_result"
    }
   ],
   "source": [
    "apple = fruits.str.contains('apple')\n",
    "fruits[apple]"
   ]
  },
  {
   "cell_type": "markdown",
   "id": "09c80caa-9e18-497f-bb8f-dc050a77834c",
   "metadata": {},
   "source": [
    "9. Which string value contains the most vowels?\n",
    "\n"
   ]
  },
  {
   "cell_type": "code",
   "execution_count": 137,
   "id": "fda131b1-8dbe-47a7-84b5-bd7631add1b2",
   "metadata": {
    "tags": []
   },
   "outputs": [
    {
     "data": {
      "text/plain": [
       "'honeycrisp apple'"
      ]
     },
     "execution_count": 137,
     "metadata": {},
     "output_type": "execute_result"
    }
   ],
   "source": [
    "vowel_strings = fruits.str.count('[aeiou]')\n",
    "index_value = vowel_strings.idxmax()\n",
    "fruits[index_value]"
   ]
  },
  {
   "cell_type": "markdown",
   "id": "ed0cbb9c-f0f9-4be7-8029-f567c2ddcb8a",
   "metadata": {},
   "source": [
    "**Exercises Part III**"
   ]
  },
  {
   "cell_type": "code",
   "execution_count": 138,
   "id": "4c9b3b64-60ff-439c-a4e9-01e1411e8431",
   "metadata": {
    "tags": []
   },
   "outputs": [
    {
     "data": {
      "text/plain": [
       "0    hnvidduckkqxwymbimkccexbkmqygkxoyndmcxnwqarhyf...\n",
       "dtype: object"
      ]
     },
     "execution_count": 138,
     "metadata": {},
     "output_type": "execute_result"
    }
   ],
   "source": [
    "letters = pd.Series(['hnvidduckkqxwymbimkccexbkmqygkxoyndmcxnwqarhyffsjpsrabtjzsypmzadfavyrnndndvswreauxovncxtwzpwejilzjrmmbbgbyxvjtewqthafnbkqplarokkyydtubbmnexoypulzwfhqvckdpqtpoppzqrmcvhhpwgjwupgzhiofohawytlsiyecuproguy'])\n",
    "letters"
   ]
  },
  {
   "cell_type": "markdown",
   "id": "3b48d675-dfb9-45ac-b40a-35138a6b9ad7",
   "metadata": {},
   "source": [
    "1. Which letter occurs the most frequently in the letters Series?\n",
    "\n"
   ]
  },
  {
   "cell_type": "code",
   "execution_count": 146,
   "id": "edf47ec3-3d6d-441d-b2ea-dc036be0d9da",
   "metadata": {
    "tags": []
   },
   "outputs": [
    {
     "data": {
      "text/plain": [
       "'y'"
      ]
     },
     "execution_count": 146,
     "metadata": {},
     "output_type": "execute_result"
    }
   ],
   "source": [
    "char_list = list(letters[0])\n",
    "char_series = pd.Series(char_list)\n",
    "char_counts = char_series.value_counts()\n",
    "most_frequent_char = char_counts.idxmax()\n",
    "most_frequent_char"
   ]
  },
  {
   "cell_type": "markdown",
   "id": "ae9a318e-5776-4227-af08-096e5f3587e8",
   "metadata": {},
   "source": [
    "2. Which letter occurs the Least frequently?\n",
    "\n"
   ]
  },
  {
   "cell_type": "code",
   "execution_count": 147,
   "id": "25dd336d-ad58-4ec4-8d2b-5e6b29be16f5",
   "metadata": {
    "tags": []
   },
   "outputs": [
    {
     "data": {
      "text/plain": [
       "'l'"
      ]
     },
     "execution_count": 147,
     "metadata": {},
     "output_type": "execute_result"
    }
   ],
   "source": [
    "least_frequent_char = char_counts.idxmin()\n",
    "least_frequent_char"
   ]
  },
  {
   "cell_type": "markdown",
   "id": "64f24af2-0bc7-4705-9a89-0f86d6a9cd10",
   "metadata": {},
   "source": [
    "3. How many vowels are in the Series?\n",
    "\n"
   ]
  },
  {
   "cell_type": "code",
   "execution_count": 162,
   "id": "31f7eceb-b83b-4407-ab44-96d5c7cb2406",
   "metadata": {
    "tags": []
   },
   "outputs": [
    {
     "data": {
      "text/plain": [
       "34"
      ]
     },
     "execution_count": 162,
     "metadata": {},
     "output_type": "execute_result"
    }
   ],
   "source": [
    "vowelsinletters = char_series.str.count('[aeiou]')\n",
    "count_v = 0\n",
    "for i in vowelsinletters:\n",
    "    if i == 1:\n",
    "        count_v += 1\n",
    "count_v"
   ]
  },
  {
   "cell_type": "markdown",
   "id": "00544ccc-ec16-464f-9d35-ae034c8126d9",
   "metadata": {},
   "source": [
    "4. How many consonants are in the Series?\n",
    "\n"
   ]
  },
  {
   "cell_type": "code",
   "execution_count": 163,
   "id": "f02bf63e-2746-4e70-adaf-bec616773b49",
   "metadata": {
    "tags": []
   },
   "outputs": [
    {
     "data": {
      "text/plain": [
       "166"
      ]
     },
     "execution_count": 163,
     "metadata": {},
     "output_type": "execute_result"
    }
   ],
   "source": [
    "consonantsinletters = char_series.str.count('[qwrtypsdfghjklzxcvbnm]')\n",
    "count_c = 0\n",
    "for i in consonantsinletters:\n",
    "    if i == 1:\n",
    "        count_c += 1\n",
    "count_c"
   ]
  },
  {
   "cell_type": "markdown",
   "id": "6f27ac9e-5ad7-4b16-8b52-8221e60eb412",
   "metadata": {},
   "source": [
    "5. Create a Series that has all of the same letters but uppercased.\n",
    "\n"
   ]
  },
  {
   "cell_type": "code",
   "execution_count": 165,
   "id": "6972254e-9bdb-493b-a4d6-d59091de56b5",
   "metadata": {
    "tags": []
   },
   "outputs": [
    {
     "data": {
      "text/plain": [
       "0    HNVIDDUCKKQXWYMBIMKCCEXBKMQYGKXOYNDMCXNWQARHYF...\n",
       "dtype: object"
      ]
     },
     "execution_count": 165,
     "metadata": {},
     "output_type": "execute_result"
    }
   ],
   "source": [
    "upper_letters = pd.Series(letters.str.upper())\n",
    "upper_letters"
   ]
  },
  {
   "cell_type": "markdown",
   "id": "213762a2-b00e-4254-b438-6a7ffc9cf9c1",
   "metadata": {},
   "source": [
    "6. Create a bar plot of the frequencies of the 6 most commonly occuring letters.\n",
    "\n"
   ]
  },
  {
   "cell_type": "code",
   "execution_count": 194,
   "id": "4fb6a83f-7445-4a46-8d13-3604b8d728a9",
   "metadata": {
    "tags": []
   },
   "outputs": [
    {
     "data": {
      "image/png": "[encoded data removed]",
      "text/plain": [
       "<Figure size 640x480 with 1 Axes>"
      ]
     },
     "metadata": {},
     "output_type": "display_data"
    }
   ],
   "source": [
    "char_counts.plot.bar(title='6 Most Frequent Letter', \n",
    "                            rot=0, \n",
    "                            color='red', \n",
    "                            ec='black',\n",
    "                            width=.9).set(xlabel='Letter',\n",
    "                            ylabel='Frequency')\n",
    "plt.xlim(-0.5, 5.5)\n",
    "plt.show()"
   ]
  },
  {
   "cell_type": "markdown",
   "id": "937ec327-8324-482b-9041-0b7e57be4891",
   "metadata": {
    "tags": []
   },
   "source": [
    "Use pandas to create a Series named numbers from the following list:\n",
    "\n"
   ]
  },
  {
   "cell_type": "code",
   "execution_count": 226,
   "id": "24aee1c6-cb38-4d93-a2a1-c985b42a6958",
   "metadata": {
    "tags": []
   },
   "outputs": [
    {
     "data": {
      "text/plain": [
       "0       $796,459.41\n",
       "1           $278.60\n",
       "2       $482,571.67\n",
       "3     $4,503,915.98\n",
       "4      $2,121,418.3\n",
       "5      $1,260,813.3\n",
       "6        $87,231.01\n",
       "7     $1,509,175.45\n",
       "8     $4,138,548.00\n",
       "9     $2,848,913.80\n",
       "10      $594,715.39\n",
       "11    $4,789,988.17\n",
       "12     $4,513,644.5\n",
       "13    $3,191,059.97\n",
       "14    $1,758,712.24\n",
       "15    $4,338,283.54\n",
       "16    $4,738,303.38\n",
       "17    $2,791,759.67\n",
       "18      $769,681.94\n",
       "19      $452,650.23\n",
       "dtype: object"
      ]
     },
     "execution_count": 226,
     "metadata": {},
     "output_type": "execute_result"
    }
   ],
   "source": [
    "numbers = pd.Series(['$796,459.41', '$278.60', '$482,571.67', '$4,503,915.98', '$2,121,418.3', '$1,260,813.3', '$87,231.01', '$1,509,175.45', '$4,138,548.00', '$2,848,913.80', '$594,715.39', '$4,789,988.17', '$4,513,644.5', '$3,191,059.97', '$1,758,712.24', '$4,338,283.54', '$4,738,303.38', '$2,791,759.67', '$769,681.94', '$452,650.23'])\n",
    "numbers"
   ]
  },
  {
   "cell_type": "markdown",
   "id": "79005d30-34a1-4b8d-9e52-17d5fb85e47a",
   "metadata": {},
   "source": [
    "1. What is the data type of the numbers Series?\n",
    "\n"
   ]
  },
  {
   "cell_type": "code",
   "execution_count": 227,
   "id": "ad8c51ef-0fa8-4c38-8c02-782487d28548",
   "metadata": {
    "tags": []
   },
   "outputs": [
    {
     "data": {
      "text/plain": [
       "pandas.core.series.Series"
      ]
     },
     "execution_count": 227,
     "metadata": {},
     "output_type": "execute_result"
    }
   ],
   "source": [
    "type(numbers)"
   ]
  },
  {
   "cell_type": "markdown",
   "id": "1a76052b-8bc9-4586-8800-836bd41f4e32",
   "metadata": {},
   "source": [
    "2. How many elements are in the number Series?\n",
    "\n"
   ]
  },
  {
   "cell_type": "code",
   "execution_count": 228,
   "id": "5689b72c-afb8-4883-9c30-c56b06731124",
   "metadata": {
    "tags": []
   },
   "outputs": [
    {
     "data": {
      "text/plain": [
       "20"
      ]
     },
     "execution_count": 228,
     "metadata": {},
     "output_type": "execute_result"
    }
   ],
   "source": [
    "len(numbers)"
   ]
  },
  {
   "cell_type": "markdown",
   "id": "1d9a033b-dd2e-49ef-9de6-d0bf83483660",
   "metadata": {},
   "source": [
    "3. Perform the necessary manipulations by accessing Series attributes and methods to convert the numbers Series to a numeric data type.\n",
    "\n"
   ]
  },
  {
   "cell_type": "code",
   "execution_count": 229,
   "id": "7f88e96b-87f5-4273-949e-35bff11a841c",
   "metadata": {
    "tags": []
   },
   "outputs": [
    {
     "name": "stdout",
     "output_type": "stream",
     "text": [
      "0      796459.41\n",
      "1         278.60\n",
      "2      482571.67\n",
      "3     4503915.98\n",
      "4     2121418.30\n",
      "5     1260813.30\n",
      "6       87231.01\n",
      "7     1509175.45\n",
      "8     4138548.00\n",
      "9     2848913.80\n",
      "10     594715.39\n",
      "11    4789988.17\n",
      "12    4513644.50\n",
      "13    3191059.97\n",
      "14    1758712.24\n",
      "15    4338283.54\n",
      "16    4738303.38\n",
      "17    2791759.67\n",
      "18     769681.94\n",
      "19     452650.23\n",
      "dtype: float64\n"
     ]
    }
   ],
   "source": [
    "numeric_money = numbers.str.replace('[$,]', '', regex=True).astype(float)\n",
    "print(numeric_money)"
   ]
  },
  {
   "cell_type": "markdown",
   "id": "430337fb-4cc8-4bd2-b284-dcfbad7cc358",
   "metadata": {},
   "source": [
    "4. Run the code to discover the maximum value from the Series.\n",
    "\n"
   ]
  },
  {
   "cell_type": "code",
   "execution_count": 205,
   "id": "6ac9dff4-2168-41f9-81b1-6499251def86",
   "metadata": {
    "tags": []
   },
   "outputs": [
    {
     "data": {
      "text/plain": [
       "4789988.17"
      ]
     },
     "execution_count": 205,
     "metadata": {},
     "output_type": "execute_result"
    }
   ],
   "source": [
    "numeric_money.max()"
   ]
  },
  {
   "cell_type": "markdown",
   "id": "ed310e6a-c736-41e8-85b4-21226544c2ea",
   "metadata": {},
   "source": [
    "5. Run the code to discover the minimum value from the Series.\n",
    "\n"
   ]
  },
  {
   "cell_type": "code",
   "execution_count": 206,
   "id": "6d2e5215-aa00-42ae-ae35-cd35b03f7348",
   "metadata": {
    "tags": []
   },
   "outputs": [
    {
     "data": {
      "text/plain": [
       "278.6"
      ]
     },
     "execution_count": 206,
     "metadata": {},
     "output_type": "execute_result"
    }
   ],
   "source": [
    "numeric_money.min()"
   ]
  },
  {
   "cell_type": "markdown",
   "id": "31cdfa4c-d29b-45fd-b218-42dc48ac5fb7",
   "metadata": {},
   "source": [
    "6. What is the range of the values in the Series?\n",
    "\n"
   ]
  },
  {
   "cell_type": "code",
   "execution_count": 213,
   "id": "f2646317-9c36-4303-9908-65eb421d984e",
   "metadata": {
    "tags": []
   },
   "outputs": [
    {
     "name": "stdout",
     "output_type": "stream",
     "text": [
      "4789988.17 - 278.6\n"
     ]
    }
   ],
   "source": [
    "print(str(numeric_money.max())+ ' - '+ str(numeric_money.min()))"
   ]
  },
  {
   "cell_type": "markdown",
   "id": "745fc3a2-7ee7-4733-859a-8833422556b2",
   "metadata": {},
   "source": [
    "7. Bin the data into 4 equally sized intervals or bins and output how many values fall into each bin.\n",
    "\n"
   ]
  },
  {
   "cell_type": "code",
   "execution_count": 221,
   "id": "e1d51f7c-c34c-466b-b7e7-3ef8ba8bbf8d",
   "metadata": {
    "tags": []
   },
   "outputs": [
    {
     "data": {
      "text/plain": [
       "(-4511.11, 1197705.993]       7\n",
       "(3592560.778, 4789988.17]     6\n",
       "(1197705.993, 2395133.385]    4\n",
       "(2395133.385, 3592560.778]    3\n",
       "Name: count, dtype: int64"
      ]
     },
     "execution_count": 221,
     "metadata": {},
     "output_type": "execute_result"
    }
   ],
   "source": [
    "binned = pd.cut(numeric_money, 4)\n",
    "counts = binned.value_counts()\n",
    "counts"
   ]
  },
  {
   "cell_type": "markdown",
   "id": "b82f1380-3a82-4cbd-9a9c-2dcde9e79cff",
   "metadata": {},
   "source": [
    "8. Plot the binned data in a meaningful way. Be sure to include a title and axis labels.\n",
    "\n"
   ]
  },
  {
   "cell_type": "code",
   "execution_count": 225,
   "id": "b0facf32-e375-4234-8b6d-4a9461382c5f",
   "metadata": {
    "tags": []
   },
   "outputs": [
    {
     "data": {
      "text/plain": [
       "[Text(0.5, 0, 'Intervals'), Text(0, 0.5, 'Count')]"
      ]
     },
     "execution_count": 225,
     "metadata": {},
     "output_type": "execute_result"
    },
    {
     "data": {
      "image/png": "[encoded data removed]",
      "text/plain": [
       "<Figure size 640x480 with 1 Axes>"
      ]
     },
     "metadata": {},
     "output_type": "display_data"
    }
   ],
   "source": [
    "counts.plot.bar(title = \"Range of Money\", color = 'red', ec = 'black',\n",
    "                width=.9).set(xlabel = 'Intervals', ylabel = 'Count')"
   ]
  },
  {
   "cell_type": "markdown",
   "id": "d6fa16c0-c150-49c7-b2eb-ef6c55e4cd4b",
   "metadata": {},
   "source": [
    "Use pandas to create a Series named exam_scores from the following list:\n",
    "\n"
   ]
  },
  {
   "cell_type": "code",
   "execution_count": 230,
   "id": "798e8412-444d-4b8c-814a-dfdcd5811ff9",
   "metadata": {
    "tags": []
   },
   "outputs": [
    {
     "data": {
      "text/plain": [
       "0     60\n",
       "1     86\n",
       "2     75\n",
       "3     62\n",
       "4     93\n",
       "5     71\n",
       "6     60\n",
       "7     83\n",
       "8     95\n",
       "9     78\n",
       "10    65\n",
       "11    72\n",
       "12    69\n",
       "13    81\n",
       "14    96\n",
       "15    80\n",
       "16    85\n",
       "17    92\n",
       "18    82\n",
       "19    78\n",
       "dtype: int64"
      ]
     },
     "execution_count": 230,
     "metadata": {},
     "output_type": "execute_result"
    }
   ],
   "source": [
    "exam_scores = pd.Series([60, 86, 75, 62, 93, 71, 60, 83, 95, 78, 65, 72, 69, 81, 96, 80, 85, 92, 82, 78])\n",
    "exam_scores"
   ]
  },
  {
   "cell_type": "markdown",
   "id": "8b0be2f6-91c0-4bfb-9baf-6a0d676ab66d",
   "metadata": {},
   "source": [
    "1. How many elements are in the exam_scores Series?\n",
    "\n"
   ]
  },
  {
   "cell_type": "code",
   "execution_count": 231,
   "id": "474840d9-7e2c-4e30-a175-88984e1ab537",
   "metadata": {
    "tags": []
   },
   "outputs": [
    {
     "data": {
      "text/plain": [
       "20"
      ]
     },
     "execution_count": 231,
     "metadata": {},
     "output_type": "execute_result"
    }
   ],
   "source": [
    "len(exam_scores)"
   ]
  },
  {
   "cell_type": "markdown",
   "id": "a7897bcc-22f1-4c53-aa42-102af8d52aa3",
   "metadata": {},
   "source": [
    "2. Run the code to discover the minimum, the maximum, the mean, and the median scores for the exam_scores Series.\n",
    "\n"
   ]
  },
  {
   "cell_type": "code",
   "execution_count": 232,
   "id": "ec488e00-0d06-4d81-8a1f-390980f7b7f5",
   "metadata": {
    "tags": []
   },
   "outputs": [
    {
     "name": "stdout",
     "output_type": "stream",
     "text": [
      "60\n",
      "96\n",
      "78.15\n",
      "79.0\n"
     ]
    }
   ],
   "source": [
    "print(exam_scores.min())\n",
    "print(exam_scores.max())\n",
    "print(exam_scores.mean())\n",
    "print(exam_scores.median())"
   ]
  },
  {
   "cell_type": "markdown",
   "id": "b806e6c2-8d37-4650-bde5-ce98e9b43b8f",
   "metadata": {},
   "source": [
    "3. Plot the Series in a meaningful way and make sure your chart has a title and axis labels.\n",
    "\n"
   ]
  },
  {
   "cell_type": "code",
   "execution_count": 246,
   "id": "16ead298-7fb4-450a-8d92-85a4eb18dcb1",
   "metadata": {
    "tags": []
   },
   "outputs": [
    {
     "data": {
      "text/plain": [
       "[Text(0.5, 0, 'Ranges'), Text(0, 0.5, 'Count')]"
      ]
     },
     "execution_count": 246,
     "metadata": {},
     "output_type": "execute_result"
    },
    {
     "data": {
      "image/png": "[encoded data removed]",
      "text/plain": [
       "<Figure size 640x480 with 1 Axes>"
      ]
     },
     "metadata": {},
     "output_type": "display_data"
    }
   ],
   "source": [
    "graded = pd.cut(exam_scores, 5)\n",
    "grades = graded.value_counts()\n",
    "grades.plot.bar(title = \"Range of Grades\", color = 'red', ec = 'black',\n",
    "                width=.9).set(xlabel = 'Ranges', ylabel = 'Count')"
   ]
  },
  {
   "cell_type": "markdown",
   "id": "388fe125-adb9-4350-b37f-58b80288d917",
   "metadata": {},
   "source": [
    "4. Write the code necessary to implement a curve for your exam_grades Series and save this as curved_grades. Add the necessary points to the highest grade to make it 100, and add the same number of points to every other score in the Series as well.\n",
    "\n"
   ]
  },
  {
   "cell_type": "code",
   "execution_count": 250,
   "id": "a2e2bcc1-e98e-409e-a299-d8108126fa73",
   "metadata": {
    "tags": []
   },
   "outputs": [
    {
     "data": {
      "text/plain": [
       "0      64\n",
       "1      90\n",
       "2      79\n",
       "3      66\n",
       "4      97\n",
       "5      75\n",
       "6      64\n",
       "7      87\n",
       "8      99\n",
       "9      82\n",
       "10     69\n",
       "11     76\n",
       "12     73\n",
       "13     85\n",
       "14    100\n",
       "15     84\n",
       "16     89\n",
       "17     96\n",
       "18     86\n",
       "19     82\n",
       "dtype: int64"
      ]
     },
     "execution_count": 250,
     "metadata": {},
     "output_type": "execute_result"
    }
   ],
   "source": [
    "highest_grade = exam_scores.max()\n",
    "to_100 = 100 - highest_grade\n",
    "curved_grades = exam_scores.add(to_100)\n",
    "curved_grades"
   ]
  },
  {
   "cell_type": "markdown",
   "id": "59ea9468-cda2-4fc0-8157-63a51e1ea227",
   "metadata": {},
   "source": [
    "5. Use a method to convert each of the numeric values in the curved_grades Series into a categorical value of letter grades. For example, 86 should be a 'B' and 95 should be an 'A'. Save this as a Series named letter_grades.\n",
    "\n"
   ]
  },
  {
   "cell_type": "code",
   "execution_count": 251,
   "id": "71d93c69-9cf1-4fcf-bea8-3910cbdf6e8d",
   "metadata": {
    "tags": []
   },
   "outputs": [
    {
     "data": {
      "text/plain": [
       "0     D\n",
       "1     A\n",
       "2     C\n",
       "3     D\n",
       "4     A\n",
       "5     C\n",
       "6     D\n",
       "7     B\n",
       "8     A\n",
       "9     B\n",
       "10    D\n",
       "11    C\n",
       "12    C\n",
       "13    B\n",
       "14    A\n",
       "15    B\n",
       "16    B\n",
       "17    A\n",
       "18    B\n",
       "19    B\n",
       "dtype: object"
      ]
     },
     "execution_count": 251,
     "metadata": {},
     "output_type": "execute_result"
    }
   ],
   "source": [
    "def grades_scores(value):\n",
    "    if value >= 90:\n",
    "        return 'A'\n",
    "    elif value >= 80:\n",
    "        return 'B'\n",
    "    elif value >= 70:\n",
    "        return 'C'\n",
    "    elif value >= 60:\n",
    "        return 'D'\n",
    "    else:\n",
    "        return 'F'\n",
    "letter_grades = curved_grades.apply(grades_scores)\n",
    "letter_grades\n"
   ]
  },
  {
   "cell_type": "markdown",
   "id": "70b121b1-1717-460d-8cb0-2d953e0054a5",
   "metadata": {},
   "source": [
    "6. Plot your new categorical letter_grades Series in a meaninful way and include a title and axis labels.\n",
    "\n"
   ]
  },
  {
   "cell_type": "code",
   "execution_count": 267,
   "id": "e2a55aaa-8d63-46a7-8e46-b849b799aeec",
   "metadata": {
    "tags": []
   },
   "outputs": [
    {
     "data": {
      "text/plain": [
       "Text(0, 0.5, 'Number of Students')"
      ]
     },
     "execution_count": 267,
     "metadata": {},
     "output_type": "execute_result"
    },
    {
     "data": {
      "image/png": "[encoded data removed]",
      "text/plain": [
       "<Figure size 640x480 with 1 Axes>"
      ]
     },
     "metadata": {},
     "output_type": "display_data"
    }
   ],
   "source": [
    "grade_counts = letter_grades.value_counts()\n",
    "all_grades = ['A', 'B', 'C', 'D', 'F']\n",
    "grade_counts = grade_counts.reindex(all_grades, fill_value=0)\n",
    "grade_counts = grade_counts.sort_index()\n",
    "\n",
    "grade_counts.plot.bar(color = \"red\", ec=\"black\", rot=0, width=.9)\n",
    "plt.title('Curved Letter Grades Distribution')\n",
    "plt.xlabel('Letter Grade')\n",
    "plt.ylabel('Number of Students')"
   ]
  },
  {
   "cell_type": "code",
   "execution_count": null,
   "id": "4fa34c44-323e-4ed5-a01c-0a26be49dc49",
   "metadata": {},
   "outputs": [],
   "source": []
  }
 ],
 "metadata": {
  "kernelspec": {
   "display_name": "Python 3 (ipykernel)",
   "language": "python",
   "name": "python3"
  },
  "language_info": {
   "codemirror_mode": {
    "name": "ipython",
    "version": 3
   },
   "file_extension": ".py",
   "mimetype": "text/x-python",
   "name": "python",
   "nbconvert_exporter": "python",
   "pygments_lexer": "ipython3",
   "version": "3.11.5"
  }
 },
 "nbformat": 4,
 "nbformat_minor": 5
}
